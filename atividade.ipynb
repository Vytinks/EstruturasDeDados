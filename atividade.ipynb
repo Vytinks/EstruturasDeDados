{
  "nbformat": 4,
  "nbformat_minor": 0,
  "metadata": {
    "colab": {
      "provenance": [],
      "authorship_tag": "ABX9TyMiZq3MaFFJcRnI6VEkx1ss",
      "include_colab_link": true
    },
    "kernelspec": {
      "name": "python3",
      "display_name": "Python 3"
    },
    "language_info": {
      "name": "python"
    }
  },
  "cells": [
    {
      "cell_type": "markdown",
      "metadata": {
        "id": "view-in-github",
        "colab_type": "text"
      },
      "source": [
        "<a href=\"https://colab.research.google.com/github/Vytinks/EstruturasDeDados/blob/main/atividade.ipynb\" target=\"_parent\"><img src=\"https://colab.research.google.com/assets/colab-badge.svg\" alt=\"Open In Colab\"/></a>"
      ]
    },
    {
      "cell_type": "code",
      "execution_count": null,
      "metadata": {
        "colab": {
          "base_uri": "https://localhost:8080/"
        },
        "id": "ePZ5FNNJS1jd",
        "outputId": "ccc0d6aa-db2a-4d0d-d64c-5164b33d513a"
      },
      "outputs": [
        {
          "output_type": "stream",
          "name": "stdout",
          "text": [
            "Valores do vetor:\n",
            "10\n",
            "20\n",
            "30\n",
            "40\n",
            "50\n",
            "60\n",
            "70\n",
            "80\n",
            "90\n",
            "100\n",
            "a b c d \n",
            "e f g h \n",
            "i j k l \n",
            "m n o p \n",
            "Digite um valor inteiro positivo para procurar no vetor: 57\n",
            "O valor 57 não existe no vetor.\n",
            "Matriz gerada:\n",
            "[81.55217492035409, 22.268716086876186, 67.39860336656096]\n",
            "[59.20452780259464, 82.00831275775664, 40.53733661116314]\n",
            "[44.731557510229635, 32.71388962481956, 3.2499320684856374]\n",
            "Matriz gerada:\n",
            "[-65, -15, -57, -75, 69]\n",
            "[49, -49, -90, -59, -58]\n",
            "[11, -69, -31, -40, 19]\n",
            "[-18, 25, -6, 3, -76]\n",
            "[-81, 63, -38, -22, -14]\n",
            "\n",
            "O maior elemento da matriz é: 69\n"
          ]
        }
      ],
      "source": [
        "#Atividade 1\n",
        "vetor = [10, 20, 30, 40, 50, 60, 70, 80, 90, 100]\n",
        "\n",
        "# Usar um for para exibir os valores do vetor\n",
        "print(\"Valores do vetor:\")\n",
        "for valor in vetor:\n",
        "    print(valor)\n",
        "#Atividade 2\n",
        "matriz = [\n",
        "    ['a', 'b', 'c', 'd'],\n",
        "    ['e', 'f', 'g', 'h'],\n",
        "    ['i', 'j', 'k', 'l'],\n",
        "    ['m', 'n', 'o', 'p']\n",
        "]\n",
        "for i in range(4):\n",
        "    for j in range(4):\n",
        "        print(matriz[i][j], end=' ')\n",
        "    print()\n",
        "  #atividade 3\n",
        "vetor = [12, 34, 56, 78, 90, 23, 45, 67, 89, 100]\n",
        "\n",
        "valor_procurado = int(input(\"Digite um valor inteiro positivo para procurar no vetor: \"))\n",
        "\n",
        "if valor_procurado in vetor:\n",
        "    indice = vetor.index(valor_procurado)\n",
        "    print(f\"O valor {valor_procurado} está no índice {indice}.\")\n",
        "else:\n",
        "    print(f\"O valor {valor_procurado} não existe no vetor.\")\n",
        "\n",
        "#Atividade 4\n",
        "import random\n",
        "\n",
        "matriz = [[random.uniform(1, 100) for _ in range(3)] for _ in range(3)]\n",
        "\n",
        "print(\"Matriz gerada:\")\n",
        "for linha in matriz:\n",
        "    print(linha)\n",
        "\n",
        "for i in range(3):\n",
        "    soma_linha = sum(matriz[i])\n",
        "\n",
        "#Ativadade 5\n",
        "import random\n",
        "\n",
        "matriz = [[random.randint(-100, 100) for _ in range(5)] for _ in range(5)]\n",
        "\n",
        "print(\"Matriz gerada:\")\n",
        "for linha in matriz:\n",
        "    print(linha)\n",
        "\n",
        "maior_elemento = max(max(linha) for linha in matriz)\n",
        "\n",
        "print(\"\\nO maior elemento da matriz é:\", maior_elemento)"
      ]
    }
  ]
}