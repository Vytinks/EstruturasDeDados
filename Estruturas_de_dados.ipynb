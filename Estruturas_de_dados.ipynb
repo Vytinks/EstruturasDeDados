{
  "nbformat": 4,
  "nbformat_minor": 0,
  "metadata": {
    "colab": {
      "provenance": [],
      "authorship_tag": "ABX9TyMlEadHp56QgrF55giMHbw2",
      "include_colab_link": true
    },
    "kernelspec": {
      "name": "python3",
      "display_name": "Python 3"
    },
    "language_info": {
      "name": "python"
    }
  },
  "cells": [
    {
      "cell_type": "markdown",
      "metadata": {
        "id": "view-in-github",
        "colab_type": "text"
      },
      "source": [
        "<a href=\"https://colab.research.google.com/github/Vytinks/EstruturasDeDados/blob/main/Estruturas_de_dados.ipynb\" target=\"_parent\"><img src=\"https://colab.research.google.com/assets/colab-badge.svg\" alt=\"Open In Colab\"/></a>"
      ]
    },
    {
      "cell_type": "markdown",
      "source": [
        "Estrutras de Dados:\n",
        "type() e dir() ainda valem para exibir o tipo e mostrar atributos e métodos."
      ],
      "metadata": {
        "id": "0FxDw983dZnf"
      }
    },
    {
      "cell_type": "markdown",
      "source": [
        "Listas:\n",
        "listas são cadeias de valores(armazena mais de um valor), sáo estruturas ordenadas, mutaceis e heterôgeneas. São ordenadas, pois cada valor te seu indice(0,1,2,3,4,...) ma ordem que estão armazenados. sao mutáveis pois é possivel alterar esses valores. e são heterogêncas pois os valores podem ser de tipos diferentes."
      ],
      "metadata": {
        "id": "p8WQ9hI-fe4F"
      }
    },
    {
      "cell_type": "markdown",
      "source": [
        "podem ser atribuitadas usando colchetes:"
      ],
      "metadata": {
        "id": "s3tySkLbgJX0"
      }
    },
    {
      "cell_type": "code",
      "source": [
        "x = [10, 5, 11, 0, 3]"
      ],
      "metadata": {
        "id": "J2NoNwobgPhk"
      },
      "execution_count": null,
      "outputs": []
    },
    {
      "cell_type": "markdown",
      "source": [
        "como o exemplo acima fica:\n",
        "[10 , 5, 11, 0, 3]"
      ],
      "metadata": {
        "id": "JaIqvrXQgb8r"
      }
    },
    {
      "cell_type": "markdown",
      "source": [
        "Listas vazias podem ser criadas das seguintes formas:\n",
        "x = []\n",
        "x = list()"
      ],
      "metadata": {
        "id": "dF32CwYFgpYG"
      }
    },
    {
      "cell_type": "markdown",
      "source": [
        "como dito cada lista e ordenada. cada um dos elementos de uma lista possui um índice, na ordem em que esta armazenados. um item pode ser selecionado individualmente pelo uso dos colchetes, lista[indice]"
      ],
      "metadata": {
        "id": "w8wzX2K1g0Y_"
      }
    },
    {
      "cell_type": "code",
      "source": [
        "x[-1]\n",
        "x[3]"
      ],
      "metadata": {
        "colab": {
          "base_uri": "https://localhost:8080/"
        },
        "id": "8oPWwHDJhSfx",
        "outputId": "a5f90bf8-cd08-4330-f997-e4b61e8f905c"
      },
      "execution_count": null,
      "outputs": [
        {
          "output_type": "execute_result",
          "data": {
            "text/plain": [
              "0"
            ]
          },
          "metadata": {},
          "execution_count": 6
        }
      ]
    },
    {
      "cell_type": "markdown",
      "source": [
        "o codigo retornara 3 e 0 ja que esses sao seus indices.\n"
      ],
      "metadata": {
        "id": "tbI2H3dThgbQ"
      }
    },
    {
      "cell_type": "markdown",
      "source": [
        "Para a adição de novos valores pode-se usar o método append(valor) ou o operador \"+\",\n",
        "que no caso das listas, executa concatenação."
      ],
      "metadata": {
        "id": "hTTHbrggjOFg"
      }
    },
    {
      "cell_type": "code",
      "source": [
        "A = [1, 2, 3]; B = [4, 5, 6]\n",
        "C = A + B\n",
        "C\n",
        "[1, 2, 3, 4, 5, 6]\n",
        "C += [7] # equivale a C = C + [7]\n",
        "C\n",
        "[1, 2, 3, 4, 5, 6, 7]\n",
        "C.append('abc')\n",
        "C\n",
        "[1, 2, 3, 4, 5, 6, 7, 'abc']"
      ],
      "metadata": {
        "id": "oL_-nbp_jQ_I"
      },
      "execution_count": null,
      "outputs": []
    },
    {
      "cell_type": "markdown",
      "source": [
        "Índices negativos, a partir do -1, percorrem a lista de trás para frente"
      ],
      "metadata": {
        "id": "mDcO4GrijjsW"
      }
    },
    {
      "cell_type": "markdown",
      "source": [
        "- Aritmético + Concatenação\n",
        "- Aritmético * Múltiplas concatenações -\n",
        "- Relacional == Igual a\n",
        "- Relacional != Diferente de\n",
        "- Relacional <> Diferente de\n",
        "- Relacional > Maior que\n",
        "- Relacional >= Maior ou igual a\n",
        "- Relacional < Menor que\n",
        "- Relacional <= Menor ou igual a"
      ],
      "metadata": {
        "id": "Cgjn2b1ijld3"
      }
    },
    {
      "cell_type": "code",
      "source": [
        "dir(list) # O comando dir(list) retorna os atributos e métodos das listas."
      ],
      "metadata": {
        "colab": {
          "base_uri": "https://localhost:8080/"
        },
        "id": "Woz-dz1xkM93",
        "outputId": "930b14aa-19b3-42ca-c028-1175d8a7667b"
      },
      "execution_count": null,
      "outputs": [
        {
          "output_type": "execute_result",
          "data": {
            "text/plain": [
              "['__add__',\n",
              " '__class__',\n",
              " '__class_getitem__',\n",
              " '__contains__',\n",
              " '__delattr__',\n",
              " '__delitem__',\n",
              " '__dir__',\n",
              " '__doc__',\n",
              " '__eq__',\n",
              " '__format__',\n",
              " '__ge__',\n",
              " '__getattribute__',\n",
              " '__getitem__',\n",
              " '__getstate__',\n",
              " '__gt__',\n",
              " '__hash__',\n",
              " '__iadd__',\n",
              " '__imul__',\n",
              " '__init__',\n",
              " '__init_subclass__',\n",
              " '__iter__',\n",
              " '__le__',\n",
              " '__len__',\n",
              " '__lt__',\n",
              " '__mul__',\n",
              " '__ne__',\n",
              " '__new__',\n",
              " '__reduce__',\n",
              " '__reduce_ex__',\n",
              " '__repr__',\n",
              " '__reversed__',\n",
              " '__rmul__',\n",
              " '__setattr__',\n",
              " '__setitem__',\n",
              " '__sizeof__',\n",
              " '__str__',\n",
              " '__subclasshook__',\n",
              " 'append',\n",
              " 'clear',\n",
              " 'copy',\n",
              " 'count',\n",
              " 'extend',\n",
              " 'index',\n",
              " 'insert',\n",
              " 'pop',\n",
              " 'remove',\n",
              " 'reverse',\n",
              " 'sort']"
            ]
          },
          "metadata": {},
          "execution_count": 12
        }
      ]
    },
    {
      "cell_type": "markdown",
      "source": [
        "- append() Adiciona elementos a lista\n",
        "- clear() Esvazia a lista\n",
        "- count() Retorna quantas ocorrências há do argumento passado\n",
        "- index() Retorna o índice da primeira ocorrência do argumento passado\n",
        "- insert() Insere na posição especificada um elemento\n",
        "- pop() Remove e retorna o elemento da posição especificada\n",
        "- remove() Remove o elemento especificado\n",
        "- reverse() Inverte a ordem dos elementos\n",
        "- sort() Ordena"
      ],
      "metadata": {
        "id": "iMRfxgoLkar2"
      }
    },
    {
      "cell_type": "markdown",
      "source": [
        "Os conjuntos finitos de valores usados na estrutura de repetição for para iterar uma variável,\n",
        "também é uma lista"
      ],
      "metadata": {
        "id": "bM_HwHlWk7cQ"
      }
    },
    {
      "cell_type": "code",
      "source": [
        "x = [ 10, 5, 11, 0, 3]\n",
        "for i in x:\n",
        "  print(i)"
      ],
      "metadata": {
        "colab": {
          "base_uri": "https://localhost:8080/"
        },
        "id": "o-qyXBFLk8ft",
        "outputId": "42ef90cf-855a-4e1e-f39b-fcca4c2713c9"
      },
      "execution_count": null,
      "outputs": [
        {
          "output_type": "stream",
          "name": "stdout",
          "text": [
            "10\n",
            "5\n",
            "11\n",
            "0\n",
            "3\n"
          ]
        }
      ]
    },
    {
      "cell_type": "markdown",
      "source": [
        "Neste caso, a lista x é usada como a lista de valores no qual i será iterado. Assim, serão\n",
        "impressos os valores 10, 5, 11, 0 e 3.\n",
        "No entanto, fora da iteração for, o operador in retorna verdadeiro se o i está presente em x, ou falso caso contrário\n"
      ],
      "metadata": {
        "id": "I6W_rKN6lTdV"
      }
    },
    {
      "cell_type": "markdown",
      "source": [
        "- Laço for e Operador in: Permitem iterar sobre os elementos e testar a presença de um item.\n",
        "- List Comprehension: Forma compacta de criar novas listas, podendo incluir condições.\n",
        "Exemplo"
      ],
      "metadata": {
        "id": "2mIeMiz8mxEg"
      }
    },
    {
      "cell_type": "code",
      "source": [
        "A = [3, 4, 5, 10]\n",
        "soma1 = [i + 1 for i in A]"
      ],
      "metadata": {
        "id": "lMhYuBvom0rS"
      },
      "execution_count": null,
      "outputs": []
    },
    {
      "cell_type": "markdown",
      "source": [
        "- Fatiamento (Slicing): A sintaxe [início:fim:passo] permite extrair sublistas.\n",
        "Exemplo:"
      ],
      "metadata": {
        "id": "3W03trHWnDQr"
      }
    },
    {
      "cell_type": "code",
      "source": [
        "X = [1, 2, 3, 4, 5, 6, 7, 8, 9, 0]\n",
        "print(X[:: -1])  # Imprime a lista de trás para frente"
      ],
      "metadata": {
        "id": "6RUhaJ3jnj8E"
      },
      "execution_count": null,
      "outputs": []
    },
    {
      "cell_type": "markdown",
      "source": [
        "Tuplas:\n",
        "Características Principais:\n",
        "\n",
        "Ordenadas e Heterogêneas: Assim como as listas, porém são imutáveis – ou seja, uma vez criada, não pode ser alterada.\n",
        "Criação: Utiliza parênteses ou a função tuple().\n",
        "Exemplo:"
      ],
      "metadata": {
        "id": "J_WfDRO_npy1"
      }
    },
    {
      "cell_type": "code",
      "source": [
        "x = ('a', 1, 2)"
      ],
      "metadata": {
        "id": "x2EPF0cWnvm4"
      },
      "execution_count": null,
      "outputs": []
    },
    {
      "cell_type": "markdown",
      "source": [
        "Imutabilidade: Se a tupla contiver elementos mutáveis (como listas), estes podem ser modificados sem alterar a própria tupla.\n",
        "Exemplo:"
      ],
      "metadata": {
        "id": "hYeuAAJfnxWk"
      }
    },
    {
      "cell_type": "code",
      "source": [
        "x = ([0, 1, 2], 2, 2)\n",
        "x[0][0] = 'mudei'"
      ],
      "metadata": {
        "id": "prOmboe0nzzD"
      },
      "execution_count": null,
      "outputs": []
    },
    {
      "cell_type": "markdown",
      "source": [
        "Operadores: Pode ser concatenada com + e repetida com *; também suporta comparações usando operadores relacionais.\n",
        "Métodos Disponíveis: Apenas count() e index() estão disponíveis, além de poder usar dir(tuple) para listar métodos."
      ],
      "metadata": {
        "id": "KzXwU5ojn2yA"
      }
    },
    {
      "cell_type": "markdown",
      "source": [
        "Dicionarios:\n",
        "Características Principais:\n",
        "\n",
        "- Chave-Valor: Cada elemento é armazenado como par chave:valor, onde a chave é a \"etiqueta\" para acessar o valor.\n",
        "- Mutáveis e Heterogêneos: Permitem alterações após a criação e os valores podem ser de tipos variados.\n",
        "- Criação:"
      ],
      "metadata": {
        "id": "k7lm7scWn5WG"
      }
    },
    {
      "cell_type": "code",
      "source": [
        "X = {'idade': 21, 'matricula': 10000, 'nome': 'Joao'}"
      ],
      "metadata": {
        "id": "tOL1ZEvRoE72"
      },
      "execution_count": null,
      "outputs": []
    },
    {
      "cell_type": "markdown",
      "source": [
        "Dicionários vazios podem ser criados com {} ou dict().\n",
        "Acesso e Métodos:\n",
        "Acesso direto por chave: X['idade'] retorna 21.\n",
        "get(chave, default) – retorna o valor associado ou um valor padrão se a chave não existir.\n",
        "Métodos úteis: clear(), copy(), items(), keys(), pop(), update(), entre outros.\n",
        "Iteração:\n",
        "Iterar somente pelas chaves:"
      ],
      "metadata": {
        "id": "cKmywzEmoGfK"
      }
    },
    {
      "cell_type": "code",
      "source": [
        "for chave in X:\n",
        "    print(chave)"
      ],
      "metadata": {
        "id": "ivjfX38ioI-t"
      },
      "execution_count": null,
      "outputs": []
    },
    {
      "cell_type": "markdown",
      "source": [
        "Iterar por chaves e valores:"
      ],
      "metadata": {
        "id": "pAqf7SXJoKi8"
      }
    },
    {
      "cell_type": "code",
      "source": [
        "for chave, valor in X.items():\n",
        "    print(chave, valor)"
      ],
      "metadata": {
        "id": "RiGdWiHpoNG0"
      },
      "execution_count": null,
      "outputs": []
    },
    {
      "cell_type": "markdown",
      "source": [
        "Esses pontos são cruciais para manipulação de dados complexos com dicionários"
      ],
      "metadata": {
        "id": "CtwP5zDVoOLN"
      }
    },
    {
      "cell_type": "markdown",
      "source": [
        "Strings:\n",
        "Características Principais:\n",
        "\n",
        "- Sequência de Caracteres: São ordenadas, homogêneas (apenas caracteres) e imutáveis.\n",
        "\n",
        "- Indexação e Fatiamento:\n",
        "Acesso individual aos caracteres funciona como em listas:"
      ],
      "metadata": {
        "id": "o02YydQLoQDr"
      }
    },
    {
      "cell_type": "code",
      "source": [
        "P = 'Palavra'\n",
        "print(P[0])  # 'P'\n",
        "print(P[-1]) # 'a'"
      ],
      "metadata": {
        "id": "I68Oa7jPod3w"
      },
      "execution_count": null,
      "outputs": []
    },
    {
      "cell_type": "markdown",
      "source": [
        "Operadores:\n",
        "\n",
        "- Concatenar com +: 'abc' + 'def' resulta em 'abcdef'.\n",
        "Repetir com *: 'abc' * 3 resulta em 'abcabcabc'.\n",
        "- Métodos Comuns:\n",
        "- - capitalize(), lower(), upper(), split(), replace(), count(), index(), isalnum(), isalpha(), entre outros.\n",
        "- capitalize()\n",
        "- - Descrição:\n",
        "- - Retorna uma nova string onde o primeiro caractere é convertido para maiúsculo e os demais para minúsculo.\n",
        "\n",
        "\n"
      ],
      "metadata": {
        "id": "w-8d4XraogqX"
      }
    },
    {
      "cell_type": "code",
      "source": [
        "texto = \"python é incrível\"\n",
        "resultado = texto.capitalize()\n",
        "print(resultado)  # Saída: \"Python é incrível\""
      ],
      "metadata": {
        "colab": {
          "base_uri": "https://localhost:8080/"
        },
        "id": "YzuWBMYtpJqr",
        "outputId": "78cb857e-f152-4fbe-f756-c3896edf09d2"
      },
      "execution_count": null,
      "outputs": [
        {
          "output_type": "stream",
          "name": "stdout",
          "text": [
            "Python é incrível\n"
          ]
        }
      ]
    },
    {
      "cell_type": "markdown",
      "source": [
        "Útil para padronizar títulos ou nomes, garantindo que a primeira letra seja maiúscula."
      ],
      "metadata": {
        "id": "i2i-zBIspLMD"
      }
    },
    {
      "cell_type": "markdown",
      "source": [
        "lower()\n",
        "Descrição:\n",
        "Retorna uma cópia da string com todos os caracteres convertidos para minúsculo.\n",
        "Exemplo:"
      ],
      "metadata": {
        "id": "Nu2kkhrppNpK"
      }
    },
    {
      "cell_type": "markdown",
      "source": [
        "upper()\n",
        "Descrição:\n",
        "Retorna uma nova string com todos os caracteres convertidos para maiúsculo.\n",
        "Exemplo:"
      ],
      "metadata": {
        "id": "yZAeZzkppRJY"
      }
    },
    {
      "cell_type": "markdown",
      "source": [
        "split()\n",
        "Descrição:\n",
        "Divide a string em uma lista de substrings, utilizando como delimitador (por padrão, espaço em branco) ou um caractere especificado.\n",
        "\n"
      ],
      "metadata": {
        "id": "zsm6cDi5pUGv"
      }
    },
    {
      "cell_type": "markdown",
      "source": [
        "replace()\n",
        "Descrição:\n",
        "Retorna uma nova string na qual todas as ocorrências de uma substring especificada são substituídas por outra."
      ],
      "metadata": {
        "id": "CEsS0m_gpaAv"
      }
    },
    {
      "cell_type": "markdown",
      "source": [
        "count()\n",
        "Descrição:\n",
        "Retorna o número de vezes que uma substring aparece na string."
      ],
      "metadata": {
        "id": "nJmmBM9Spb1_"
      }
    },
    {
      "cell_type": "markdown",
      "source": [
        "index()\n",
        "Descrição:\n",
        "Retorna o índice da primeira ocorrência de uma substring na string. Se a substring não for encontrada, gera um ValueError."
      ],
      "metadata": {
        "id": "MMbDDucOpd9W"
      }
    },
    {
      "cell_type": "markdown",
      "source": [
        "isalnum()\n",
        "Descrição:\n",
        "Retorna True se todos os caracteres da string forem alfanuméricos (letras ou dígitos) e a string não estiver vazia; caso contrário, retorna False."
      ],
      "metadata": {
        "id": "EIO7UzHkpg6A"
      }
    },
    {
      "cell_type": "markdown",
      "source": [
        "isalpha()\n",
        "Descrição:\n",
        "Retorna True se todos os caracteres da string forem apenas letras (alfabéticos) e a string não estiver vazia; caso contrário, retorna False."
      ],
      "metadata": {
        "id": "uV58UOY7pi4L"
      }
    },
    {
      "cell_type": "markdown",
      "source": [
        "strip()\n",
        "Descrição:\n",
        "Remove espaços em branco (ou outros caracteres especificados) do início e do fim da string."
      ],
      "metadata": {
        "id": "av4c5yeWpm3v"
      }
    },
    {
      "cell_type": "markdown",
      "source": [
        "startswith() e endswith()\n",
        "Descrição:\n",
        "startswith(substring): Verifica se a string começa com a substring especificada.\n",
        "endswith(substring): Verifica se a string termina com a substring especificada."
      ],
      "metadata": {
        "id": "7sYeq1bHpozC"
      }
    },
    {
      "cell_type": "markdown",
      "source": [
        "join()\n",
        "Descrição:\n",
        "Une os elementos de um iterável (por exemplo, uma lista de strings) em uma única string, utilizando a string em que o método é chamado como separador."
      ],
      "metadata": {
        "id": "ND6-PyJzpqSr"
      }
    },
    {
      "cell_type": "markdown",
      "source": [
        "find()\n",
        "Descrição:\n",
        "Retorna o índice da primeira ocorrência de uma substring. Se a substring não for encontrada, retorna -1, sem gerar exceção."
      ],
      "metadata": {
        "id": "9ZUVEHyrprmT"
      }
    },
    {
      "cell_type": "markdown",
      "source": [
        "swapcase()\n",
        "Descrição:\n",
        "Retorna uma nova string onde as letras maiúsculas são convertidas para minúsculas e vice-versa."
      ],
      "metadata": {
        "id": "OIrpZTz7ptHY"
      }
    },
    {
      "cell_type": "markdown",
      "source": [
        "title()\n",
        "Descrição:\n",
        "Retorna uma nova string onde a primeira letra de cada palavra é convertida para maiúsculo e as demais para minúsculo."
      ],
      "metadata": {
        "id": "ByFuhwhspvge"
      }
    },
    {
      "cell_type": "code",
      "source": [],
      "metadata": {
        "id": "PWQ45ifdl7Yz"
      },
      "execution_count": null,
      "outputs": []
    }
  ]
}