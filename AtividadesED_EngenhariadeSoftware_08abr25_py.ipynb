{
  "cells": [
    {
      "cell_type": "markdown",
      "metadata": {
        "id": "view-in-github",
        "colab_type": "text"
      },
      "source": [
        "<a href=\"https://colab.research.google.com/github/Vytinks/EstruturasDeDados/blob/main/AtividadesED_EngenhariadeSoftware_08abr25_py.ipynb\" target=\"_parent\"><img src=\"https://colab.research.google.com/assets/colab-badge.svg\" alt=\"Open In Colab\"/></a>"
      ]
    },
    {
      "cell_type": "code",
      "source": [
        "class Tarefa:\n",
        "  def __init__(self, nome):\n",
        "    self.nome = nome\n",
        "    self.proxima = None\n",
        "class ListaEncadeada:\n",
        "  def __init__(self):\n",
        "    self.head = None\n",
        "  def adicionar_tarefa(self, nome):\n",
        "    nova_tarefa = Tarefa(nome)\n",
        "    nova_tarefa.proxima = self.head\n",
        "    self.head = nova_tarefa\n",
        "  def remover_tarefa(self, nome):\n",
        "    atual = self.head\n",
        "    anterior = None\n",
        "    while atual and atual.nome != nome:\n",
        "      anterior = atual\n",
        "      atual = atual.proxima\n",
        "    if atual:\n",
        "      if anterior:\n",
        "        anterior.proxima = atual.proxima\n",
        "    else:\n",
        "      self.head = atual.proxima\n",
        "  def mostrar_tarefas(self):\n",
        "    atual = self.head\n",
        "    while atual:\n",
        "      print(atual.nome)\n",
        "      atual = atual.proxima\n",
        "# Exemplo de uso\n",
        "lista_tarefas = ListaEncadeada()\n",
        "lista_tarefas.adicionar_tarefa(\"Estudar Estruturas de Dados\")\n",
        "lista_tarefas.adicionar_tarefa(\"Revisar Código\")\n",
        "print(\"Tarefas iniciais:\")\n",
        "lista_tarefas.mostrar_tarefas()\n",
        "lista_tarefas.remover_tarefa(\"Revisar Código\")\n",
        "print(\"\\nTarefas após remover 'Revisar Código':\")\n",
        "lista_tarefas.mostrar_tarefas()"
      ],
      "metadata": {
        "colab": {
          "base_uri": "https://localhost:8080/"
        },
        "id": "yQoMQPZ2N-Jr",
        "outputId": "c8c6aad2-ab38-4e7e-a0c8-e4e0d675e1e6"
      },
      "execution_count": null,
      "outputs": [
        {
          "output_type": "stream",
          "name": "stdout",
          "text": [
            "Tarefas iniciais:\n",
            "Revisar Código\n",
            "Estudar Estruturas de Dados\n",
            "\n",
            "Tarefas após remover 'Revisar Código':\n",
            "Revisar Código\n",
            "Estudar Estruturas de Dados\n"
          ]
        }
      ]
    }
  ],
  "metadata": {
    "colab": {
      "provenance": [],
      "include_colab_link": true
    },
    "kernelspec": {
      "display_name": "Python 3",
      "name": "python3"
    }
  },
  "nbformat": 4,
  "nbformat_minor": 0
}