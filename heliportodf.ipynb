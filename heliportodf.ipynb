{
  "cells": [
    {
      "cell_type": "markdown",
      "metadata": {
        "id": "view-in-github",
        "colab_type": "text"
      },
      "source": [
        "<a href=\"https://colab.research.google.com/github/Vytinks/EstruturasDeDados/blob/main/heliportodf.ipynb\" target=\"_parent\"><img src=\"https://colab.research.google.com/assets/colab-badge.svg\" alt=\"Open In Colab\"/></a>"
      ]
    },
    {
      "cell_type": "code",
      "source": [
        "import pandas as pd\n",
        "\n",
        "colunas = ['Nome', 'localizacao']\n",
        "nomeHeliporto = [\n",
        "  \"Península\",\n",
        "  \"Parque Cidade\",\n",
        "  \"Condomínio Brasil 21\",\n",
        "  \"Raul Saboia\",\n",
        "  \"SENAI/SESI/CNI\",\n",
        "  \"Toca PCDF\",\n",
        "  \"Base Resgate\",\n",
        "  \"Parkway\",\n",
        "  \"Residência Oficial de Águas Claras I\",\n",
        "  \"Figaro\"\n",
        "]\n",
        "\n",
        "locHeliporto = [\n",
        "  \"Ilha Serpente\",\n",
        "  \"Vila Nova Horizonte\",\n",
        "  \"Condomínio Estrela do Sul\",\n",
        "  \"Rua dos Ventos\",\n",
        "  \"Instituto Andrómeda\",\n",
        "  \"Refúgio Lua Cheia\",\n",
        "  \"Base Aurora\",\n",
        "  \"Vale Encantado\",\n",
        "  \"Palácio das Nuvens\",\n",
        "  \"Aldeia dos Sonhos\"\n",
        "]\n",
        "\n",
        "coordHeliporto = [\n",
        "  \"-15.7392, -47.9393\",\n",
        "  \"-15.7334, -47.9055\",\n",
        "  \"-15.7128, -47.9221\",\n",
        "  \"-15.7204, -47.9882\",\n",
        "  \"-15.7558, -47.9754\",\n",
        "  \"-15.7357, -47.9809\",\n",
        "  \"-15.6982, -47.8903\",\n",
        "  \"-15.6847, -47.9517\",\n",
        "  \"-15.7101, -47.9730\",\n",
        "  \"-15.7253, -47.9334\"\n",
        "]\n",
        "\n",
        "\n",
        "\n",
        "data = {\n",
        "    'Nome': nomeHeliporto,\n",
        "    'Localização': locHeliporto,\n",
        "    'Coordenadas': coordHeliporto\n",
        "}\n",
        "\n",
        "df = pd.DataFrame(data)\n",
        "\n",
        "print(df)"
      ],
      "metadata": {
        "colab": {
          "base_uri": "https://localhost:8080/"
        },
        "id": "uE0m2pGFeaJg",
        "outputId": "61e36d7f-0a38-4175-e30a-c3bb49963142"
      },
      "execution_count": 1,
      "outputs": [
        {
          "output_type": "stream",
          "name": "stdout",
          "text": [
            "                                   Nome                Localização  \\\n",
            "0                             Península              Ilha Serpente   \n",
            "1                         Parque Cidade        Vila Nova Horizonte   \n",
            "2                  Condomínio Brasil 21  Condomínio Estrela do Sul   \n",
            "3                           Raul Saboia             Rua dos Ventos   \n",
            "4                        SENAI/SESI/CNI        Instituto Andrómeda   \n",
            "5                             Toca PCDF          Refúgio Lua Cheia   \n",
            "6                          Base Resgate                Base Aurora   \n",
            "7                               Parkway             Vale Encantado   \n",
            "8  Residência Oficial de Águas Claras I         Palácio das Nuvens   \n",
            "9                                Figaro          Aldeia dos Sonhos   \n",
            "\n",
            "          Coordenadas  \n",
            "0  -15.7392, -47.9393  \n",
            "1  -15.7334, -47.9055  \n",
            "2  -15.7128, -47.9221  \n",
            "3  -15.7204, -47.9882  \n",
            "4  -15.7558, -47.9754  \n",
            "5  -15.7357, -47.9809  \n",
            "6  -15.6982, -47.8903  \n",
            "7  -15.6847, -47.9517  \n",
            "8  -15.7101, -47.9730  \n",
            "9  -15.7253, -47.9334  \n"
          ]
        }
      ]
    }
  ],
  "metadata": {
    "colab": {
      "provenance": [],
      "include_colab_link": true
    },
    "kernelspec": {
      "display_name": "Python 3",
      "name": "python3"
    }
  },
  "nbformat": 4,
  "nbformat_minor": 0
}